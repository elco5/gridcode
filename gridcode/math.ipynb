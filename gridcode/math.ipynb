{
 "cells": [
  {
   "cell_type": "code",
   "execution_count": 5,
   "metadata": {},
   "outputs": [],
   "source": [
    "import numpy as np\n",
    "fs = 4  # sample frequency\n",
    "tr = 1  # risetime\n",
    "d = 2   # number of risetimes in each test step\n",
    "h = d*tr*fs # number of samples in each test step\n",
    "stp = 3 # number of test steps"
   ]
  },
  {
   "cell_type": "code",
   "execution_count": 6,
   "metadata": {},
   "outputs": [],
   "source": [
    "# create sample data array for testing\n",
    "\n",
    "val = 0\n",
    "count = 0\n",
    "data = np.zeros(stp*tr*d*fs)\n",
    "\n",
    "for i in range(1,stp+1):\n",
    "    val = val + 1\n",
    "\n",
    "    for j in range(tr*d):\n",
    "        \n",
    "        for k in range(fs):\n",
    "            data[count] = np.floor(10*(val + np.random.random()))\n",
    "            count = count + 1"
   ]
  },
  {
   "cell_type": "code",
   "execution_count": 7,
   "metadata": {},
   "outputs": [],
   "source": [
    "# get end y value of each step\n",
    "step_end_vals = np.zeros(stp)\n",
    "# get end index of each step\n",
    "step_end_index = np.zeros(stp)\n",
    "\n",
    "for step_count in range(stp): # zero indexed count of test steps\n",
    "    # step end index for this (step_count) step\n",
    "    # TODO: use n_step_end as anchor index \n",
    "    # for window average of Y values in A[] \n",
    "    n_step_end = (step_count*h + h) - 1\n",
    "\n",
    "\n",
    "    # fill array of step_end_indicies\n",
    "    step_end_index[step_count] = n_step_end\n",
    "    # step_end_vals[step_count] = data[n_step_end]\n"
   ]
  },
  {
   "cell_type": "code",
   "execution_count": 13,
   "metadata": {},
   "outputs": [],
   "source": [
    "# h = number of samples in one step\n",
    "# lower_bound = 1/4 * h; upper_bound = 3/4 * h\n",
    "# average samples from step_end_index[each step] - 3/4 h\n",
    "    # to step_end_index[each step] - 1/4 h\n",
    "step_average = np.zeros(stp)\n",
    "for i in range(len(step_end_index)):\n",
    "    index_lb = int(step_end_index[i] - np.floor(3/4 * h))\n",
    "    index_ub = int(step_end_index[i] - np.floor(1/4 * h))\n",
    "    sum = 0\n",
    "    counter = 0\n",
    "    for sample_n in range(index_lb, index_ub):\n",
    "        sum += data[sample_n]\n",
    "        counter += 1\n",
    "    step_average[i] = sum / counter\n",
    "print(step_average)"

   ]
  }
 ],
 "metadata": {
  "interpreter": {
   "hash": "74c4714e4fa42868cfc4ab4791178daaf39205d01193d3eda1df2b9a0f727f60"
  },
  "kernelspec": {
   "display_name": "Python 3.9.7 ('base')",
   "language": "python",
   "name": "python3"
  },
  "language_info": {
   "codemirror_mode": {
    "name": "ipython",
    "version": 3
   },
   "file_extension": ".py",
   "mimetype": "text/x-python",
   "name": "python",
   "nbconvert_exporter": "python",
   "pygments_lexer": "ipython3",
   "version": "3.9.5"
  },
  "orig_nbformat": 4
 },
 "nbformat": 4,
 "nbformat_minor": 2
}
