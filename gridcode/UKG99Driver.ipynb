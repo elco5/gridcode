{
 "cells": [
  {
   "cell_type": "code",
   "execution_count": 1,
   "metadata": {},
   "outputs": [],
   "source": [
    "import pandas as pd\n",
    "import numpy as np\n",
    "pd.options.plotting.backend = \"plotly\"\n",
    "import bento\n",
    "import UKG99VoltVar\n"
   ]
  },
  {
   "cell_type": "code",
   "execution_count": 4,
   "metadata": {},
   "outputs": [
    {
     "ename": "TypeError",
     "evalue": "'module' object is not callable",
     "output_type": "error",
     "traceback": [
      "\u001b[1;31m---------------------------------------------------------------------------\u001b[0m",
      "\u001b[1;31mTypeError\u001b[0m                                 Traceback (most recent call last)",
      "\u001b[1;32mC:\\Users\\ECOUNT~1\\AppData\\Local\\Temp/ipykernel_17616/546748709.py\u001b[0m in \u001b[0;36m<module>\u001b[1;34m\u001b[0m\n\u001b[0;32m      1\u001b[0m \u001b[0mgtc\u001b[0m \u001b[1;33m=\u001b[0m \u001b[0mbento\u001b[0m\u001b[1;33m.\u001b[0m\u001b[0mBento\u001b[0m\u001b[1;33m(\u001b[0m\u001b[1;33m)\u001b[0m\u001b[1;33m\u001b[0m\u001b[1;33m\u001b[0m\u001b[0m\n\u001b[1;32m----> 2\u001b[1;33m \u001b[0mvv1\u001b[0m \u001b[1;33m=\u001b[0m \u001b[0mUKG99VoltVar\u001b[0m\u001b[1;33m(\u001b[0m\u001b[1;36m1\u001b[0m\u001b[1;33m,\u001b[0m \u001b[1;36m1.0\u001b[0m\u001b[1;33m,\u001b[0m \u001b[0mgtc\u001b[0m\u001b[1;33m)\u001b[0m \u001b[1;31m#ch1, %100 power\u001b[0m\u001b[1;33m\u001b[0m\u001b[1;33m\u001b[0m\u001b[0m\n\u001b[0m\u001b[0;32m      3\u001b[0m \u001b[1;33m\u001b[0m\u001b[0m\n\u001b[0;32m      4\u001b[0m \u001b[1;31m# run voltage vector through volt var function\u001b[0m\u001b[1;33m\u001b[0m\u001b[1;33m\u001b[0m\u001b[0m\n\u001b[0;32m      5\u001b[0m \u001b[0mdata_length\u001b[0m \u001b[1;33m=\u001b[0m \u001b[1;36m100\u001b[0m\u001b[1;33m\u001b[0m\u001b[1;33m\u001b[0m\u001b[0m\n",
      "\u001b[1;31mTypeError\u001b[0m: 'module' object is not callable"
     ]
    }
   ],
   "source": [
    "\n",
    "gtc = bento.Bento()\n",
    "vv1 = UKG99VoltVar.UKG99VoltVar(1, 1.0, gtc) #ch1, %100 power\n",
    "\n",
    "# run voltage vector through volt var function\n",
    "data_length = 100\n",
    "voltage_range_min = gtc.vl\n",
    "voltage_range_max = gtc.vh\n",
    "\n",
    "v = np.linspace(voltage_range_min, voltage_range_max, data_length)\n",
    "var = np.zeros(data_length)\n",
    "\n",
    "for count, voltage in enumerate(v):\n",
    "    var[count] = vv1.vars_from_volts(v[count])"
   ]
  }
 ],
 "metadata": {
  "interpreter": {
   "hash": "74c4714e4fa42868cfc4ab4791178daaf39205d01193d3eda1df2b9a0f727f60"
  },
  "kernelspec": {
   "display_name": "Python 3.9.7 ('base')",
   "language": "python",
   "name": "python3"
  },
  "language_info": {
   "codemirror_mode": {
    "name": "ipython",
    "version": 3
   },
   "file_extension": ".py",
   "mimetype": "text/x-python",
   "name": "python",
   "nbconvert_exporter": "python",
   "pygments_lexer": "ipython3",
   "version": "3.9.7"
  },
  "orig_nbformat": 4
 },
 "nbformat": 4,
 "nbformat_minor": 2
}
