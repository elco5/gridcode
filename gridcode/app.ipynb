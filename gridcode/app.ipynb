{
 "cells": [
  {
   "cell_type": "code",
   "execution_count": 1,
   "metadata": {},
   "outputs": [],
   "source": [
    "\n",
    "import pandas as pd\n",
    "import numpy as np\n",
    "pd.options.plotting.backend = \"plotly\"\n",
    "import powerwall\n",
    "import voltwatt\n"
   ]
  },
  {
   "cell_type": "markdown",
   "metadata": {},
   "source": [
    "### Test Profiles"
   ]
  },
  {
   "cell_type": "code",
   "execution_count": 2,
   "metadata": {},
   "outputs": [],
   "source": [
    "\n",
    "pw = powerwall.Powerwall()    # create EUT \n",
    "\n",
    "vw1 = voltwatt.VoltWattTest(1, pw)  # create test profiles\n",
    "vw2 = voltwatt.VoltWattTest(2, pw)  # enter test characteristic (1,2,3)\n",
    "vw3 = voltwatt.VoltWattTest(3, pw)"
   ]
  },
  {
   "cell_type": "markdown",
   "metadata": {},
   "source": [
    "### Test Profiles to CSV"
   ]
  },
  {
   "cell_type": "code",
   "execution_count": 3,
   "metadata": {},
   "outputs": [],
   "source": [
    "# make dataframe to hold test profiles\n",
    "df1 = pd.DataFrame.from_dict(vw1.__dict__, orient='index')\n",
    "df2 = pd.DataFrame.from_dict(vw2.__dict__, orient='index')\n",
    "df3 = pd.DataFrame.from_dict(vw3.__dict__, orient='index')\n",
    "\n",
    "VW = pd.DataFrame()\n",
    "VW['vw.1'], VW['vw.2'], VW['vw.3'] = df1[0], df2[0], df3[0]\n",
    "#print(VW)\n",
    "VW.to_csv('out.csv')\n",
    "VW.to_html('out.html')\n"
   ]
  },
  {
   "cell_type": "markdown",
   "metadata": {},
   "source": [
    "### Calculate Watts as Function of Volts"
   ]
  },
  {
   "cell_type": "code",
   "execution_count": 4,
   "metadata": {},
   "outputs": [],
   "source": [
    "# run voltage vector through volt watt function\n",
    "data_length = 100\n",
    "voltage_range_min = pw.vl\n",
    "voltage_range_max = pw.vh\n",
    "\n",
    "v = np.linspace(voltage_range_min, voltage_range_max, data_length)\n",
    "wat1 = np.zeros(data_length)\n",
    "\n",
    "for count, voltage in enumerate(v):\n",
    "\n",
    "    wat1[count] = vw1.watts_from_volts(v[count])\n",
    "\n"
   ]
  },
  {
   "cell_type": "markdown",
   "metadata": {},
   "source": [
    "### Ideal Volt Watt Curve"
   ]
  },
  {
   "cell_type": "code",
   "execution_count": 5,
   "metadata": {},
   "outputs": [],
   "source": [
    "volt_watt_data = {'volts': v.T , 'watts': wat1.T}\n",
    "vwdf = pd.DataFrame.from_dict(volt_watt_data)"
   ]
  },
  {
   "cell_type": "markdown",
   "metadata": {},
   "source": [
    "### Tolerance range for test variables"
   ]
  },
  {
   "cell_type": "code",
   "execution_count": 6,
   "metadata": {},
   "outputs": [],
   "source": [
    "watt_tolerance = pw.prated * 0.05\n",
    "vwdf['w-hi'] = vwdf['watts'] + watt_tolerance\n",
    "vwdf['w-lo'] = vwdf['watts'] - watt_tolerance"
   ]
  },
  {
   "cell_type": "markdown",
   "metadata": {},
   "source": [
    "### Generate Expected Power from Voltage Steps"
   ]
  },
  {
   "cell_type": "code",
   "execution_count": 7,
   "metadata": {},
   "outputs": [],
   "source": [
    "P = np.zeros(len(vw1.steps))\n",
    "for count, voltage in enumerate(vw1.steps):\n",
    "    P[count] = vw1.watts_from_volts(vw1.steps[count])"
   ]
  },
  {
   "cell_type": "code",
   "execution_count": 8,
   "metadata": {},
   "outputs": [
    {
     "data": {
      "application/vnd.plotly.v1+json": {
       "config": {
        "plotlyServerURL": "https://plot.ly"
       },
       "data": [
        {
         "line": {
          "color": "rgb(31, 119, 180)"
         },
         "mode": "lines",
         "name": "Expected P",
         "type": "scatter",
         "x": [
          204,
          204.72727272727272,
          205.45454545454547,
          206.1818181818182,
          206.9090909090909,
          207.63636363636363,
          208.36363636363637,
          209.0909090909091,
          209.8181818181818,
          210.54545454545453,
          211.27272727272728,
          212,
          212.72727272727272,
          213.45454545454547,
          214.1818181818182,
          214.9090909090909,
          215.63636363636363,
          216.36363636363637,
          217.0909090909091,
          217.8181818181818,
          218.54545454545456,
          219.27272727272728,
          220,
          220.72727272727272,
          221.45454545454544,
          222.1818181818182,
          222.9090909090909,
          223.63636363636363,
          224.36363636363637,
          225.0909090909091,
          225.8181818181818,
          226.54545454545456,
          227.27272727272728,
          228,
          228.72727272727272,
          229.45454545454547,
          230.1818181818182,
          230.9090909090909,
          231.63636363636363,
          232.36363636363637,
          233.0909090909091,
          233.8181818181818,
          234.54545454545456,
          235.27272727272728,
          236,
          236.72727272727272,
          237.45454545454544,
          238.1818181818182,
          238.9090909090909,
          239.63636363636363,
          240.36363636363637,
          241.0909090909091,
          241.8181818181818,
          242.54545454545456,
          243.27272727272728,
          244,
          244.72727272727272,
          245.45454545454544,
          246.1818181818182,
          246.9090909090909,
          247.63636363636363,
          248.36363636363637,
          249.0909090909091,
          249.8181818181818,
          250.54545454545456,
          251.27272727272728,
          252,
          252.72727272727272,
          253.45454545454544,
          254.1818181818182,
          254.9090909090909,
          255.63636363636363,
          256.3636363636364,
          257.0909090909091,
          257.8181818181818,
          258.54545454545456,
          259.27272727272725,
          260,
          260.72727272727275,
          261.45454545454544,
          262.1818181818182,
          262.90909090909093,
          263.6363636363636,
          264.3636363636364,
          265.0909090909091,
          265.8181818181818,
          266.54545454545456,
          267.27272727272725,
          268,
          268.72727272727275,
          269.45454545454544,
          270.1818181818182,
          270.9090909090909,
          271.6363636363636,
          272.3636363636364,
          273.0909090909091,
          273.8181818181818,
          274.54545454545456,
          275.27272727272725,
          276
         ],
         "y": [
          5000,
          5000,
          5000,
          5000,
          5000,
          5000,
          5000,
          5000,
          5000,
          5000,
          5000,
          5000,
          5000,
          5000,
          5000,
          5000,
          5000,
          5000,
          5000,
          5000,
          5000,
          5000,
          5000,
          5000,
          5000,
          5000,
          5000,
          5000,
          5000,
          5000,
          5000,
          5000,
          5000,
          5000,
          5000,
          5000,
          5000,
          5000,
          5000,
          5000,
          5000,
          5000,
          5000,
          5000,
          5000,
          5000,
          5000,
          5000,
          5000,
          5000,
          5000,
          5000,
          5000,
          5000,
          5000,
          5000,
          5000,
          5000,
          5000,
          5000,
          5000,
          5000,
          5000,
          5000,
          5000,
          5000,
          5000,
          5000,
          5000,
          5000,
          4734.848484848489,
          4356.060606060614,
          3977.2727272727243,
          3598.4848484848344,
          3219.6969696969745,
          2840.9090909090846,
          2462.1212121212247,
          2083.333333333335,
          1704.545454545445,
          1325.757575757585,
          946.9696969696952,
          568.1818181818053,
          189.3939393939454,
          0,
          0,
          0,
          0,
          0,
          0,
          0,
          0,
          0,
          0,
          0,
          0,
          0,
          0,
          0,
          0,
          0
         ]
        },
        {
         "line": {
          "width": 0
         },
         "marker": {
          "color": "#444"
         },
         "mode": "lines",
         "name": "Upper Bound",
         "showlegend": false,
         "type": "scatter",
         "x": [
          204,
          204.72727272727272,
          205.45454545454547,
          206.1818181818182,
          206.9090909090909,
          207.63636363636363,
          208.36363636363637,
          209.0909090909091,
          209.8181818181818,
          210.54545454545453,
          211.27272727272728,
          212,
          212.72727272727272,
          213.45454545454547,
          214.1818181818182,
          214.9090909090909,
          215.63636363636363,
          216.36363636363637,
          217.0909090909091,
          217.8181818181818,
          218.54545454545456,
          219.27272727272728,
          220,
          220.72727272727272,
          221.45454545454544,
          222.1818181818182,
          222.9090909090909,
          223.63636363636363,
          224.36363636363637,
          225.0909090909091,
          225.8181818181818,
          226.54545454545456,
          227.27272727272728,
          228,
          228.72727272727272,
          229.45454545454547,
          230.1818181818182,
          230.9090909090909,
          231.63636363636363,
          232.36363636363637,
          233.0909090909091,
          233.8181818181818,
          234.54545454545456,
          235.27272727272728,
          236,
          236.72727272727272,
          237.45454545454544,
          238.1818181818182,
          238.9090909090909,
          239.63636363636363,
          240.36363636363637,
          241.0909090909091,
          241.8181818181818,
          242.54545454545456,
          243.27272727272728,
          244,
          244.72727272727272,
          245.45454545454544,
          246.1818181818182,
          246.9090909090909,
          247.63636363636363,
          248.36363636363637,
          249.0909090909091,
          249.8181818181818,
          250.54545454545456,
          251.27272727272728,
          252,
          252.72727272727272,
          253.45454545454544,
          254.1818181818182,
          254.9090909090909,
          255.63636363636363,
          256.3636363636364,
          257.0909090909091,
          257.8181818181818,
          258.54545454545456,
          259.27272727272725,
          260,
          260.72727272727275,
          261.45454545454544,
          262.1818181818182,
          262.90909090909093,
          263.6363636363636,
          264.3636363636364,
          265.0909090909091,
          265.8181818181818,
          266.54545454545456,
          267.27272727272725,
          268,
          268.72727272727275,
          269.45454545454544,
          270.1818181818182,
          270.9090909090909,
          271.6363636363636,
          272.3636363636364,
          273.0909090909091,
          273.8181818181818,
          274.54545454545456,
          275.27272727272725,
          276
         ],
         "y": [
          5250,
          5250,
          5250,
          5250,
          5250,
          5250,
          5250,
          5250,
          5250,
          5250,
          5250,
          5250,
          5250,
          5250,
          5250,
          5250,
          5250,
          5250,
          5250,
          5250,
          5250,
          5250,
          5250,
          5250,
          5250,
          5250,
          5250,
          5250,
          5250,
          5250,
          5250,
          5250,
          5250,
          5250,
          5250,
          5250,
          5250,
          5250,
          5250,
          5250,
          5250,
          5250,
          5250,
          5250,
          5250,
          5250,
          5250,
          5250,
          5250,
          5250,
          5250,
          5250,
          5250,
          5250,
          5250,
          5250,
          5250,
          5250,
          5250,
          5250,
          5250,
          5250,
          5250,
          5250,
          5250,
          5250,
          5250,
          5250,
          5250,
          5250,
          4984.848484848489,
          4606.060606060614,
          4227.272727272724,
          3848.4848484848344,
          3469.6969696969745,
          3090.9090909090846,
          2712.1212121212247,
          2333.333333333335,
          1954.545454545445,
          1575.757575757585,
          1196.9696969696952,
          818.1818181818053,
          439.3939393939454,
          250,
          250,
          250,
          250,
          250,
          250,
          250,
          250,
          250,
          250,
          250,
          250,
          250,
          250,
          250,
          250,
          250
         ]
        },
        {
         "fill": "tonexty",
         "fillcolor": "rgba(68, 68, 68, 0.3)",
         "line": {
          "width": 0
         },
         "marker": {
          "color": "#444"
         },
         "mode": "lines",
         "name": "Lower Bound",
         "showlegend": false,
         "type": "scatter",
         "x": [
          204,
          204.72727272727272,
          205.45454545454547,
          206.1818181818182,
          206.9090909090909,
          207.63636363636363,
          208.36363636363637,
          209.0909090909091,
          209.8181818181818,
          210.54545454545453,
          211.27272727272728,
          212,
          212.72727272727272,
          213.45454545454547,
          214.1818181818182,
          214.9090909090909,
          215.63636363636363,
          216.36363636363637,
          217.0909090909091,
          217.8181818181818,
          218.54545454545456,
          219.27272727272728,
          220,
          220.72727272727272,
          221.45454545454544,
          222.1818181818182,
          222.9090909090909,
          223.63636363636363,
          224.36363636363637,
          225.0909090909091,
          225.8181818181818,
          226.54545454545456,
          227.27272727272728,
          228,
          228.72727272727272,
          229.45454545454547,
          230.1818181818182,
          230.9090909090909,
          231.63636363636363,
          232.36363636363637,
          233.0909090909091,
          233.8181818181818,
          234.54545454545456,
          235.27272727272728,
          236,
          236.72727272727272,
          237.45454545454544,
          238.1818181818182,
          238.9090909090909,
          239.63636363636363,
          240.36363636363637,
          241.0909090909091,
          241.8181818181818,
          242.54545454545456,
          243.27272727272728,
          244,
          244.72727272727272,
          245.45454545454544,
          246.1818181818182,
          246.9090909090909,
          247.63636363636363,
          248.36363636363637,
          249.0909090909091,
          249.8181818181818,
          250.54545454545456,
          251.27272727272728,
          252,
          252.72727272727272,
          253.45454545454544,
          254.1818181818182,
          254.9090909090909,
          255.63636363636363,
          256.3636363636364,
          257.0909090909091,
          257.8181818181818,
          258.54545454545456,
          259.27272727272725,
          260,
          260.72727272727275,
          261.45454545454544,
          262.1818181818182,
          262.90909090909093,
          263.6363636363636,
          264.3636363636364,
          265.0909090909091,
          265.8181818181818,
          266.54545454545456,
          267.27272727272725,
          268,
          268.72727272727275,
          269.45454545454544,
          270.1818181818182,
          270.9090909090909,
          271.6363636363636,
          272.3636363636364,
          273.0909090909091,
          273.8181818181818,
          274.54545454545456,
          275.27272727272725,
          276
         ],
         "y": [
          4750,
          4750,
          4750,
          4750,
          4750,
          4750,
          4750,
          4750,
          4750,
          4750,
          4750,
          4750,
          4750,
          4750,
          4750,
          4750,
          4750,
          4750,
          4750,
          4750,
          4750,
          4750,
          4750,
          4750,
          4750,
          4750,
          4750,
          4750,
          4750,
          4750,
          4750,
          4750,
          4750,
          4750,
          4750,
          4750,
          4750,
          4750,
          4750,
          4750,
          4750,
          4750,
          4750,
          4750,
          4750,
          4750,
          4750,
          4750,
          4750,
          4750,
          4750,
          4750,
          4750,
          4750,
          4750,
          4750,
          4750,
          4750,
          4750,
          4750,
          4750,
          4750,
          4750,
          4750,
          4750,
          4750,
          4750,
          4750,
          4750,
          4750,
          4484.848484848489,
          4106.060606060614,
          3727.2727272727243,
          3348.4848484848344,
          2969.6969696969745,
          2590.9090909090846,
          2212.1212121212247,
          1833.3333333333348,
          1454.545454545445,
          1075.757575757585,
          696.9696969696952,
          318.1818181818053,
          -60.6060606060546,
          -250,
          -250,
          -250,
          -250,
          -250,
          -250,
          -250,
          -250,
          -250,
          -250,
          -250,
          -250,
          -250,
          -250,
          -250,
          -250,
          -250
         ]
        },
        {
         "marker": {
          "color": "LightSkyBlue",
          "line": {
           "color": "MediumPurple",
           "width": 2
          },
          "size": 5,
          "symbol": "square"
         },
         "mode": "markers",
         "name": "Test Steps",
         "showlegend": true,
         "type": "scatter",
         "x": [
          207.6,
          250.8,
          258,
          259.2,
          260.4,
          267.6,
          272.4,
          267.6,
          260.4,
          259.2,
          258,
          250.8,
          207.6
         ],
         "y": [
          5000,
          5000,
          3125.000000000002,
          2500.0000000000077,
          1875.0000000000132,
          0,
          0,
          0,
          1875.0000000000132,
          2500.0000000000077,
          3125.000000000002,
          5000,
          5000
         ]
        }
       ],
       "layout": {
        "hovermode": "x",
        "template": {
         "data": {
          "bar": [
           {
            "error_x": {
             "color": "#2a3f5f"
            },
            "error_y": {
             "color": "#2a3f5f"
            },
            "marker": {
             "line": {
              "color": "#E5ECF6",
              "width": 0.5
             },
             "pattern": {
              "fillmode": "overlay",
              "size": 10,
              "solidity": 0.2
             }
            },
            "type": "bar"
           }
          ],
          "barpolar": [
           {
            "marker": {
             "line": {
              "color": "#E5ECF6",
              "width": 0.5
             },
             "pattern": {
              "fillmode": "overlay",
              "size": 10,
              "solidity": 0.2
             }
            },
            "type": "barpolar"
           }
          ],
          "carpet": [
           {
            "aaxis": {
             "endlinecolor": "#2a3f5f",
             "gridcolor": "white",
             "linecolor": "white",
             "minorgridcolor": "white",
             "startlinecolor": "#2a3f5f"
            },
            "baxis": {
             "endlinecolor": "#2a3f5f",
             "gridcolor": "white",
             "linecolor": "white",
             "minorgridcolor": "white",
             "startlinecolor": "#2a3f5f"
            },
            "type": "carpet"
           }
          ],
          "choropleth": [
           {
            "colorbar": {
             "outlinewidth": 0,
             "ticks": ""
            },
            "type": "choropleth"
           }
          ],
          "contour": [
           {
            "colorbar": {
             "outlinewidth": 0,
             "ticks": ""
            },
            "colorscale": [
             [
              0,
              "#0d0887"
             ],
             [
              0.1111111111111111,
              "#46039f"
             ],
             [
              0.2222222222222222,
              "#7201a8"
             ],
             [
              0.3333333333333333,
              "#9c179e"
             ],
             [
              0.4444444444444444,
              "#bd3786"
             ],
             [
              0.5555555555555556,
              "#d8576b"
             ],
             [
              0.6666666666666666,
              "#ed7953"
             ],
             [
              0.7777777777777778,
              "#fb9f3a"
             ],
             [
              0.8888888888888888,
              "#fdca26"
             ],
             [
              1,
              "#f0f921"
             ]
            ],
            "type": "contour"
           }
          ],
          "contourcarpet": [
           {
            "colorbar": {
             "outlinewidth": 0,
             "ticks": ""
            },
            "type": "contourcarpet"
           }
          ],
          "heatmap": [
           {
            "colorbar": {
             "outlinewidth": 0,
             "ticks": ""
            },
            "colorscale": [
             [
              0,
              "#0d0887"
             ],
             [
              0.1111111111111111,
              "#46039f"
             ],
             [
              0.2222222222222222,
              "#7201a8"
             ],
             [
              0.3333333333333333,
              "#9c179e"
             ],
             [
              0.4444444444444444,
              "#bd3786"
             ],
             [
              0.5555555555555556,
              "#d8576b"
             ],
             [
              0.6666666666666666,
              "#ed7953"
             ],
             [
              0.7777777777777778,
              "#fb9f3a"
             ],
             [
              0.8888888888888888,
              "#fdca26"
             ],
             [
              1,
              "#f0f921"
             ]
            ],
            "type": "heatmap"
           }
          ],
          "heatmapgl": [
           {
            "colorbar": {
             "outlinewidth": 0,
             "ticks": ""
            },
            "colorscale": [
             [
              0,
              "#0d0887"
             ],
             [
              0.1111111111111111,
              "#46039f"
             ],
             [
              0.2222222222222222,
              "#7201a8"
             ],
             [
              0.3333333333333333,
              "#9c179e"
             ],
             [
              0.4444444444444444,
              "#bd3786"
             ],
             [
              0.5555555555555556,
              "#d8576b"
             ],
             [
              0.6666666666666666,
              "#ed7953"
             ],
             [
              0.7777777777777778,
              "#fb9f3a"
             ],
             [
              0.8888888888888888,
              "#fdca26"
             ],
             [
              1,
              "#f0f921"
             ]
            ],
            "type": "heatmapgl"
           }
          ],
          "histogram": [
           {
            "marker": {
             "pattern": {
              "fillmode": "overlay",
              "size": 10,
              "solidity": 0.2
             }
            },
            "type": "histogram"
           }
          ],
          "histogram2d": [
           {
            "colorbar": {
             "outlinewidth": 0,
             "ticks": ""
            },
            "colorscale": [
             [
              0,
              "#0d0887"
             ],
             [
              0.1111111111111111,
              "#46039f"
             ],
             [
              0.2222222222222222,
              "#7201a8"
             ],
             [
              0.3333333333333333,
              "#9c179e"
             ],
             [
              0.4444444444444444,
              "#bd3786"
             ],
             [
              0.5555555555555556,
              "#d8576b"
             ],
             [
              0.6666666666666666,
              "#ed7953"
             ],
             [
              0.7777777777777778,
              "#fb9f3a"
             ],
             [
              0.8888888888888888,
              "#fdca26"
             ],
             [
              1,
              "#f0f921"
             ]
            ],
            "type": "histogram2d"
           }
          ],
          "histogram2dcontour": [
           {
            "colorbar": {
             "outlinewidth": 0,
             "ticks": ""
            },
            "colorscale": [
             [
              0,
              "#0d0887"
             ],
             [
              0.1111111111111111,
              "#46039f"
             ],
             [
              0.2222222222222222,
              "#7201a8"
             ],
             [
              0.3333333333333333,
              "#9c179e"
             ],
             [
              0.4444444444444444,
              "#bd3786"
             ],
             [
              0.5555555555555556,
              "#d8576b"
             ],
             [
              0.6666666666666666,
              "#ed7953"
             ],
             [
              0.7777777777777778,
              "#fb9f3a"
             ],
             [
              0.8888888888888888,
              "#fdca26"
             ],
             [
              1,
              "#f0f921"
             ]
            ],
            "type": "histogram2dcontour"
           }
          ],
          "mesh3d": [
           {
            "colorbar": {
             "outlinewidth": 0,
             "ticks": ""
            },
            "type": "mesh3d"
           }
          ],
          "parcoords": [
           {
            "line": {
             "colorbar": {
              "outlinewidth": 0,
              "ticks": ""
             }
            },
            "type": "parcoords"
           }
          ],
          "pie": [
           {
            "automargin": true,
            "type": "pie"
           }
          ],
          "scatter": [
           {
            "marker": {
             "colorbar": {
              "outlinewidth": 0,
              "ticks": ""
             }
            },
            "type": "scatter"
           }
          ],
          "scatter3d": [
           {
            "line": {
             "colorbar": {
              "outlinewidth": 0,
              "ticks": ""
             }
            },
            "marker": {
             "colorbar": {
              "outlinewidth": 0,
              "ticks": ""
             }
            },
            "type": "scatter3d"
           }
          ],
          "scattercarpet": [
           {
            "marker": {
             "colorbar": {
              "outlinewidth": 0,
              "ticks": ""
             }
            },
            "type": "scattercarpet"
           }
          ],
          "scattergeo": [
           {
            "marker": {
             "colorbar": {
              "outlinewidth": 0,
              "ticks": ""
             }
            },
            "type": "scattergeo"
           }
          ],
          "scattergl": [
           {
            "marker": {
             "colorbar": {
              "outlinewidth": 0,
              "ticks": ""
             }
            },
            "type": "scattergl"
           }
          ],
          "scattermapbox": [
           {
            "marker": {
             "colorbar": {
              "outlinewidth": 0,
              "ticks": ""
             }
            },
            "type": "scattermapbox"
           }
          ],
          "scatterpolar": [
           {
            "marker": {
             "colorbar": {
              "outlinewidth": 0,
              "ticks": ""
             }
            },
            "type": "scatterpolar"
           }
          ],
          "scatterpolargl": [
           {
            "marker": {
             "colorbar": {
              "outlinewidth": 0,
              "ticks": ""
             }
            },
            "type": "scatterpolargl"
           }
          ],
          "scatterternary": [
           {
            "marker": {
             "colorbar": {
              "outlinewidth": 0,
              "ticks": ""
             }
            },
            "type": "scatterternary"
           }
          ],
          "surface": [
           {
            "colorbar": {
             "outlinewidth": 0,
             "ticks": ""
            },
            "colorscale": [
             [
              0,
              "#0d0887"
             ],
             [
              0.1111111111111111,
              "#46039f"
             ],
             [
              0.2222222222222222,
              "#7201a8"
             ],
             [
              0.3333333333333333,
              "#9c179e"
             ],
             [
              0.4444444444444444,
              "#bd3786"
             ],
             [
              0.5555555555555556,
              "#d8576b"
             ],
             [
              0.6666666666666666,
              "#ed7953"
             ],
             [
              0.7777777777777778,
              "#fb9f3a"
             ],
             [
              0.8888888888888888,
              "#fdca26"
             ],
             [
              1,
              "#f0f921"
             ]
            ],
            "type": "surface"
           }
          ],
          "table": [
           {
            "cells": {
             "fill": {
              "color": "#EBF0F8"
             },
             "line": {
              "color": "white"
             }
            },
            "header": {
             "fill": {
              "color": "#C8D4E3"
             },
             "line": {
              "color": "white"
             }
            },
            "type": "table"
           }
          ]
         },
         "layout": {
          "annotationdefaults": {
           "arrowcolor": "#2a3f5f",
           "arrowhead": 0,
           "arrowwidth": 1
          },
          "autotypenumbers": "strict",
          "coloraxis": {
           "colorbar": {
            "outlinewidth": 0,
            "ticks": ""
           }
          },
          "colorscale": {
           "diverging": [
            [
             0,
             "#8e0152"
            ],
            [
             0.1,
             "#c51b7d"
            ],
            [
             0.2,
             "#de77ae"
            ],
            [
             0.3,
             "#f1b6da"
            ],
            [
             0.4,
             "#fde0ef"
            ],
            [
             0.5,
             "#f7f7f7"
            ],
            [
             0.6,
             "#e6f5d0"
            ],
            [
             0.7,
             "#b8e186"
            ],
            [
             0.8,
             "#7fbc41"
            ],
            [
             0.9,
             "#4d9221"
            ],
            [
             1,
             "#276419"
            ]
           ],
           "sequential": [
            [
             0,
             "#0d0887"
            ],
            [
             0.1111111111111111,
             "#46039f"
            ],
            [
             0.2222222222222222,
             "#7201a8"
            ],
            [
             0.3333333333333333,
             "#9c179e"
            ],
            [
             0.4444444444444444,
             "#bd3786"
            ],
            [
             0.5555555555555556,
             "#d8576b"
            ],
            [
             0.6666666666666666,
             "#ed7953"
            ],
            [
             0.7777777777777778,
             "#fb9f3a"
            ],
            [
             0.8888888888888888,
             "#fdca26"
            ],
            [
             1,
             "#f0f921"
            ]
           ],
           "sequentialminus": [
            [
             0,
             "#0d0887"
            ],
            [
             0.1111111111111111,
             "#46039f"
            ],
            [
             0.2222222222222222,
             "#7201a8"
            ],
            [
             0.3333333333333333,
             "#9c179e"
            ],
            [
             0.4444444444444444,
             "#bd3786"
            ],
            [
             0.5555555555555556,
             "#d8576b"
            ],
            [
             0.6666666666666666,
             "#ed7953"
            ],
            [
             0.7777777777777778,
             "#fb9f3a"
            ],
            [
             0.8888888888888888,
             "#fdca26"
            ],
            [
             1,
             "#f0f921"
            ]
           ]
          },
          "colorway": [
           "#636efa",
           "#EF553B",
           "#00cc96",
           "#ab63fa",
           "#FFA15A",
           "#19d3f3",
           "#FF6692",
           "#B6E880",
           "#FF97FF",
           "#FECB52"
          ],
          "font": {
           "color": "#2a3f5f"
          },
          "geo": {
           "bgcolor": "white",
           "lakecolor": "white",
           "landcolor": "#E5ECF6",
           "showlakes": true,
           "showland": true,
           "subunitcolor": "white"
          },
          "hoverlabel": {
           "align": "left"
          },
          "hovermode": "closest",
          "mapbox": {
           "style": "light"
          },
          "paper_bgcolor": "white",
          "plot_bgcolor": "#E5ECF6",
          "polar": {
           "angularaxis": {
            "gridcolor": "white",
            "linecolor": "white",
            "ticks": ""
           },
           "bgcolor": "#E5ECF6",
           "radialaxis": {
            "gridcolor": "white",
            "linecolor": "white",
            "ticks": ""
           }
          },
          "scene": {
           "xaxis": {
            "backgroundcolor": "#E5ECF6",
            "gridcolor": "white",
            "gridwidth": 2,
            "linecolor": "white",
            "showbackground": true,
            "ticks": "",
            "zerolinecolor": "white"
           },
           "yaxis": {
            "backgroundcolor": "#E5ECF6",
            "gridcolor": "white",
            "gridwidth": 2,
            "linecolor": "white",
            "showbackground": true,
            "ticks": "",
            "zerolinecolor": "white"
           },
           "zaxis": {
            "backgroundcolor": "#E5ECF6",
            "gridcolor": "white",
            "gridwidth": 2,
            "linecolor": "white",
            "showbackground": true,
            "ticks": "",
            "zerolinecolor": "white"
           }
          },
          "shapedefaults": {
           "line": {
            "color": "#2a3f5f"
           }
          },
          "ternary": {
           "aaxis": {
            "gridcolor": "white",
            "linecolor": "white",
            "ticks": ""
           },
           "baxis": {
            "gridcolor": "white",
            "linecolor": "white",
            "ticks": ""
           },
           "bgcolor": "#E5ECF6",
           "caxis": {
            "gridcolor": "white",
            "linecolor": "white",
            "ticks": ""
           }
          },
          "title": {
           "x": 0.05
          },
          "xaxis": {
           "automargin": true,
           "gridcolor": "white",
           "linecolor": "white",
           "ticks": "",
           "title": {
            "standoff": 15
           },
           "zerolinecolor": "white",
           "zerolinewidth": 2
          },
          "yaxis": {
           "automargin": true,
           "gridcolor": "white",
           "linecolor": "white",
           "ticks": "",
           "title": {
            "standoff": 15
           },
           "zerolinecolor": "white",
           "zerolinewidth": 2
          }
         }
        },
        "title": {
         "text": "Volt-Watt Curve (characteristic 1)"
        },
        "xaxis": {
         "title": {
          "text": "Grid Voltage (V)"
         }
        },
        "yaxis": {
         "title": {
          "text": "Real Power (W)"
         }
        }
       }
      }
     },
     "metadata": {},
     "output_type": "display_data"
    }
   ],
   "source": [
    "import plotly.graph_objs as go\n",
    "\n",
    "df = vwdf\n",
    "xvals = vwdf['volts']\n",
    "yvals = vwdf['watts']\n",
    "\n",
    "fig = go.Figure([\n",
    "    go.Scatter(\n",
    "        name='Expected P',\n",
    "        x=xvals,\n",
    "        y=yvals,\n",
    "        mode='lines',\n",
    "        line=dict(color='rgb(31, 119, 180)'),\n",
    "    ),\n",
    "    go.Scatter(\n",
    "        name='Upper Bound',\n",
    "        x=xvals,\n",
    "        y=yvals+watt_tolerance,\n",
    "        mode='lines',\n",
    "        marker=dict(color=\"#444\"),\n",
    "        line=dict(width=0),\n",
    "        showlegend=False\n",
    "    ),\n",
    "    go.Scatter(\n",
    "        name='Lower Bound',\n",
    "        x=xvals,\n",
    "        y=yvals-watt_tolerance,\n",
    "        marker=dict(color=\"#444\"),\n",
    "        line=dict(width=0),\n",
    "        mode='lines',\n",
    "        fillcolor='rgba(68, 68, 68, 0.3)',\n",
    "        fill='tonexty',\n",
    "        showlegend=False\n",
    "    ),\n",
    "\n",
    "])\n",
    "\n",
    "# Add test steps to plot\n",
    "fig.add_trace(\n",
    "    go.Scatter(\n",
    "        name='Test Steps',\n",
    "        mode='markers',\n",
    "        x=vw1.steps,\n",
    "        y=P,\n",
    "        marker=dict(\n",
    "            symbol='square',\n",
    "            color='LightSkyBlue',\n",
    "            size=5,\n",
    "            line=dict(\n",
    "                color='MediumPurple',\n",
    "                width=2\n",
    "            )\n",
    "        ),\n",
    "        showlegend=True\n",
    "    )\n",
    ")\n",
    "\n",
    "\n",
    "fig.update_layout(\n",
    "    yaxis_title='Real Power (W)',\n",
    "    xaxis_title='Grid Voltage (V)',\n",
    "    title = 'Volt-Watt Curve (characteristic 1)',\n",
    "    hovermode=\"x\"\n",
    ")\n",
    "\n",
    "fig.show()\n",
    "fig.write_html(\"plot.html\")"
   ]
  },
  {
   "cell_type": "code",
   "execution_count": null,
   "metadata": {},
   "outputs": [],
   "source": []
  }
 ],
 "metadata": {
  "interpreter": {
   "hash": "2be5faf79681da6f2a61fdfdd5405d65d042280f7fba6178067603e3a2925119"
  },
  "kernelspec": {
   "display_name": "Python 3.10.2 64-bit",
   "language": "python",
   "name": "python3"
  },
  "language_info": {
   "codemirror_mode": {
    "name": "ipython",
    "version": 3
   },
   "file_extension": ".py",
   "mimetype": "text/x-python",
   "name": "python",
   "nbconvert_exporter": "python",
   "pygments_lexer": "ipython3",
   "version": "3.9.7"
  },
  "orig_nbformat": 4
 },
 "nbformat": 4,
 "nbformat_minor": 2
}
