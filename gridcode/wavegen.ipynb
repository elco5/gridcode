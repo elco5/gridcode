{
 "cells": [
  {
   "cell_type": "code",
   "execution_count": 16,
   "metadata": {},
   "outputs": [],
   "source": [
    "import numpy as np\n",
    "fs = 4  # sample frequency\n",
    "tr = 1  # risetime\n",
    "d = 2   # number of risetimes in each test step\n",
    "h = d*tr*fs # number of samples in each test step\n",
    "stp = 3 # number of test steps"
   ]
  },
  {
   "cell_type": "code",
   "execution_count": 17,
   "metadata": {},
   "outputs": [],
   "source": [
    "# create sample data array for testing\n",
    "# \n",
    "val = 0\n",
    "count = 0\n",
    "A = np.zeros(stp*tr*d*fs)\n",
    "\n",
    "for i in range(1,stp+1):\n",
    "    val = val + 1\n",
    "\n",
    "    for j in range(tr*d):\n",
    "        \n",
    "        for k in range(fs):\n",
    "            A[count] = np.floor(10*(val + np.random.random()))\n",
    "            count = count + 1"
   ]
  },
  {
   "cell_type": "code",
   "execution_count": 32,
   "metadata": {},
   "outputs": [],
   "source": [
    "# get end y value of each step\n",
    "step_end_vals = np.zeros(stp)\n",
    "# get end index of each step\n",
    "step_end_index = np.zeros(stp)\n",
    "\n",
    "for step_count in range(stp): # zero indexed count of test steps\n",
    "    # step end index for this (step_count) step\n",
    "    # TODO: use n_step_end as anchor index \n",
    "    # for window average of Y values in A[] \n",
    "    n_step_end = (step_count*h + h) - 1\n",
    "\n",
    "\n",
    "    # fill array of step_end_indicies\n",
    "    step_end_index[step_count] = n_step_end\n",
    "    step_end_vals[step_count] = A[n_step_end]"
   ]
  },
  {
   "cell_type": "code",
   "execution_count": null,
   "metadata": {},
   "outputs": [],
   "source": []
  }
 ],
 "metadata": {
  "interpreter": {
   "hash": "74c4714e4fa42868cfc4ab4791178daaf39205d01193d3eda1df2b9a0f727f60"
  },
  "kernelspec": {
   "display_name": "Python 3.9.7 ('base')",
   "language": "python",
   "name": "python3"
  },
  "language_info": {
   "codemirror_mode": {
    "name": "ipython",
    "version": 3
   },
   "file_extension": ".py",
   "mimetype": "text/x-python",
   "name": "python",
   "nbconvert_exporter": "python",
   "pygments_lexer": "ipython3",
   "version": "3.9.7"
  },
  "orig_nbformat": 4
 },
 "nbformat": 4,
 "nbformat_minor": 2
}
